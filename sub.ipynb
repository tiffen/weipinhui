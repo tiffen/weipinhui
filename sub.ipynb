{
 "cells": [
  {
   "cell_type": "code",
   "execution_count": 1,
   "metadata": {
    "collapsed": true
   },
   "outputs": [],
   "source": [
    "import pandas as pd\n",
    "import numpy as np\n",
    "import time\n",
    "import xgboost as xgb\n",
    "from sklearn.model_selection import train_test_split\n",
    "from sklearn.model_selection  import GridSearchCV \n",
    "from xgboost.sklearn import XGBClassifier\n",
    "from sklearn import  metrics    #scklearn functions\n",
    "import matplotlib.pylab as plt\n",
    "%matplotlib inline\n",
    "#from matplotlib.pylab import rcParams\n",
    "# rcParams['figure.figsize'] = 22, 8"
   ]
  },
  {
   "cell_type": "code",
   "execution_count": 3,
   "metadata": {
    "collapsed": false
   },
   "outputs": [
    {
     "data": {
      "text/html": [
       "<div>\n",
       "<table border=\"1\" class=\"dataframe\">\n",
       "  <thead>\n",
       "    <tr style=\"text-align: right;\">\n",
       "      <th></th>\n",
       "      <th>uid</th>\n",
       "      <th>spu_id</th>\n",
       "      <th>type</th>\n",
       "      <th>date</th>\n",
       "      <th>uiclick_3</th>\n",
       "      <th>uibuy_3</th>\n",
       "      <th>ui_ratio_3</th>\n",
       "      <th>uiclick_8</th>\n",
       "      <th>uibuy_8</th>\n",
       "      <th>ui_ratio_8</th>\n",
       "      <th>...</th>\n",
       "      <th>ub_ratio_8</th>\n",
       "      <th>ubbuy_21</th>\n",
       "      <th>ubclick_21</th>\n",
       "      <th>ub_ratio_21</th>\n",
       "      <th>ubbuy_34</th>\n",
       "      <th>ubclick_34</th>\n",
       "      <th>ub_ratio_34</th>\n",
       "      <th>ubbuy_89</th>\n",
       "      <th>ubclick_89</th>\n",
       "      <th>ub_ratio_89</th>\n",
       "    </tr>\n",
       "  </thead>\n",
       "  <tbody>\n",
       "    <tr>\n",
       "      <th>0</th>\n",
       "      <td>522945</td>\n",
       "      <td>338312</td>\n",
       "      <td>0</td>\n",
       "      <td>03-28</td>\n",
       "      <td>-1.0</td>\n",
       "      <td>-1.0</td>\n",
       "      <td>-1.0</td>\n",
       "      <td>-1.0</td>\n",
       "      <td>-1.0</td>\n",
       "      <td>-1.0</td>\n",
       "      <td>...</td>\n",
       "      <td>-1.0</td>\n",
       "      <td>-1.0</td>\n",
       "      <td>-1.0</td>\n",
       "      <td>-1.0</td>\n",
       "      <td>-1.0</td>\n",
       "      <td>-1.0</td>\n",
       "      <td>-1.0</td>\n",
       "      <td>-1.0</td>\n",
       "      <td>-1.0</td>\n",
       "      <td>-1.0</td>\n",
       "    </tr>\n",
       "    <tr>\n",
       "      <th>1</th>\n",
       "      <td>334640</td>\n",
       "      <td>1130939</td>\n",
       "      <td>0</td>\n",
       "      <td>03-27</td>\n",
       "      <td>-1.0</td>\n",
       "      <td>-1.0</td>\n",
       "      <td>-1.0</td>\n",
       "      <td>-1.0</td>\n",
       "      <td>-1.0</td>\n",
       "      <td>-1.0</td>\n",
       "      <td>...</td>\n",
       "      <td>-1.0</td>\n",
       "      <td>0.0</td>\n",
       "      <td>5.0</td>\n",
       "      <td>0.0</td>\n",
       "      <td>0.0</td>\n",
       "      <td>5.0</td>\n",
       "      <td>0.0</td>\n",
       "      <td>0.0</td>\n",
       "      <td>5.0</td>\n",
       "      <td>0.0</td>\n",
       "    </tr>\n",
       "    <tr>\n",
       "      <th>2</th>\n",
       "      <td>420321</td>\n",
       "      <td>1603326</td>\n",
       "      <td>0</td>\n",
       "      <td>03-27</td>\n",
       "      <td>-1.0</td>\n",
       "      <td>-1.0</td>\n",
       "      <td>-1.0</td>\n",
       "      <td>-1.0</td>\n",
       "      <td>-1.0</td>\n",
       "      <td>-1.0</td>\n",
       "      <td>...</td>\n",
       "      <td>0.0</td>\n",
       "      <td>0.0</td>\n",
       "      <td>44.0</td>\n",
       "      <td>0.0</td>\n",
       "      <td>0.0</td>\n",
       "      <td>44.0</td>\n",
       "      <td>0.0</td>\n",
       "      <td>0.0</td>\n",
       "      <td>141.0</td>\n",
       "      <td>0.0</td>\n",
       "    </tr>\n",
       "    <tr>\n",
       "      <th>3</th>\n",
       "      <td>41979</td>\n",
       "      <td>713518</td>\n",
       "      <td>0</td>\n",
       "      <td>03-29</td>\n",
       "      <td>-1.0</td>\n",
       "      <td>-1.0</td>\n",
       "      <td>-1.0</td>\n",
       "      <td>-1.0</td>\n",
       "      <td>-1.0</td>\n",
       "      <td>-1.0</td>\n",
       "      <td>...</td>\n",
       "      <td>0.0</td>\n",
       "      <td>0.0</td>\n",
       "      <td>52.0</td>\n",
       "      <td>0.0</td>\n",
       "      <td>0.0</td>\n",
       "      <td>52.0</td>\n",
       "      <td>0.0</td>\n",
       "      <td>0.0</td>\n",
       "      <td>69.0</td>\n",
       "      <td>0.0</td>\n",
       "    </tr>\n",
       "    <tr>\n",
       "      <th>4</th>\n",
       "      <td>534150</td>\n",
       "      <td>1009663</td>\n",
       "      <td>0</td>\n",
       "      <td>03-28</td>\n",
       "      <td>-1.0</td>\n",
       "      <td>-1.0</td>\n",
       "      <td>-1.0</td>\n",
       "      <td>-1.0</td>\n",
       "      <td>-1.0</td>\n",
       "      <td>-1.0</td>\n",
       "      <td>...</td>\n",
       "      <td>-1.0</td>\n",
       "      <td>-1.0</td>\n",
       "      <td>-1.0</td>\n",
       "      <td>-1.0</td>\n",
       "      <td>-1.0</td>\n",
       "      <td>-1.0</td>\n",
       "      <td>-1.0</td>\n",
       "      <td>-1.0</td>\n",
       "      <td>-1.0</td>\n",
       "      <td>-1.0</td>\n",
       "    </tr>\n",
       "  </tbody>\n",
       "</table>\n",
       "<p>5 rows × 79 columns</p>\n",
       "</div>"
      ],
      "text/plain": [
       "      uid   spu_id  type   date  uiclick_3  uibuy_3  ui_ratio_3  uiclick_8  \\\n",
       "0  522945   338312     0  03-28       -1.0     -1.0        -1.0       -1.0   \n",
       "1  334640  1130939     0  03-27       -1.0     -1.0        -1.0       -1.0   \n",
       "2  420321  1603326     0  03-27       -1.0     -1.0        -1.0       -1.0   \n",
       "3   41979   713518     0  03-29       -1.0     -1.0        -1.0       -1.0   \n",
       "4  534150  1009663     0  03-28       -1.0     -1.0        -1.0       -1.0   \n",
       "\n",
       "   uibuy_8  ui_ratio_8     ...       ub_ratio_8  ubbuy_21  ubclick_21  \\\n",
       "0     -1.0        -1.0     ...             -1.0      -1.0        -1.0   \n",
       "1     -1.0        -1.0     ...             -1.0       0.0         5.0   \n",
       "2     -1.0        -1.0     ...              0.0       0.0        44.0   \n",
       "3     -1.0        -1.0     ...              0.0       0.0        52.0   \n",
       "4     -1.0        -1.0     ...             -1.0      -1.0        -1.0   \n",
       "\n",
       "   ub_ratio_21  ubbuy_34  ubclick_34  ub_ratio_34  ubbuy_89  ubclick_89  \\\n",
       "0         -1.0      -1.0        -1.0         -1.0      -1.0        -1.0   \n",
       "1          0.0       0.0         5.0          0.0       0.0         5.0   \n",
       "2          0.0       0.0        44.0          0.0       0.0       141.0   \n",
       "3          0.0       0.0        52.0          0.0       0.0        69.0   \n",
       "4         -1.0      -1.0        -1.0         -1.0      -1.0        -1.0   \n",
       "\n",
       "   ub_ratio_89  \n",
       "0         -1.0  \n",
       "1          0.0  \n",
       "2          0.0  \n",
       "3          0.0  \n",
       "4         -1.0  \n",
       "\n",
       "[5 rows x 79 columns]"
      ]
     },
     "execution_count": 3,
     "metadata": {},
     "output_type": "execute_result"
    }
   ],
   "source": [
    "train = pd.read_csv('cache/online_train_feat3.csv')\n",
    "train = train.fillna(-1)\n",
    "train.head()"
   ]
  },
  {
   "cell_type": "code",
   "execution_count": 4,
   "metadata": {
    "collapsed": false
   },
   "outputs": [
    {
     "data": {
      "text/html": [
       "<div>\n",
       "<table border=\"1\" class=\"dataframe\">\n",
       "  <thead>\n",
       "    <tr style=\"text-align: right;\">\n",
       "      <th></th>\n",
       "      <th>uid</th>\n",
       "      <th>spu_id</th>\n",
       "      <th>uiclick_3</th>\n",
       "      <th>uibuy_3</th>\n",
       "      <th>ui_ratio_3</th>\n",
       "      <th>uiclick_8</th>\n",
       "      <th>uibuy_8</th>\n",
       "      <th>ui_ratio_8</th>\n",
       "      <th>uiclick_21</th>\n",
       "      <th>uibuy_21</th>\n",
       "      <th>...</th>\n",
       "      <th>ub_ratio_8</th>\n",
       "      <th>ubbuy_21</th>\n",
       "      <th>ubclick_21</th>\n",
       "      <th>ub_ratio_21</th>\n",
       "      <th>ubbuy_34</th>\n",
       "      <th>ubclick_34</th>\n",
       "      <th>ub_ratio_34</th>\n",
       "      <th>ubbuy_89</th>\n",
       "      <th>ubclick_89</th>\n",
       "      <th>ub_ratio_89</th>\n",
       "    </tr>\n",
       "  </thead>\n",
       "  <tbody>\n",
       "    <tr>\n",
       "      <th>0</th>\n",
       "      <td>117570</td>\n",
       "      <td>771214</td>\n",
       "      <td>-1.0</td>\n",
       "      <td>-1.0</td>\n",
       "      <td>-1.0</td>\n",
       "      <td>-1.0</td>\n",
       "      <td>-1.0</td>\n",
       "      <td>-1.0</td>\n",
       "      <td>-1.0</td>\n",
       "      <td>-1.0</td>\n",
       "      <td>...</td>\n",
       "      <td>-1.0</td>\n",
       "      <td>0.0</td>\n",
       "      <td>1.0</td>\n",
       "      <td>0.0</td>\n",
       "      <td>0.0</td>\n",
       "      <td>1.0</td>\n",
       "      <td>0.0</td>\n",
       "      <td>0.0</td>\n",
       "      <td>2.0</td>\n",
       "      <td>0.000000</td>\n",
       "    </tr>\n",
       "    <tr>\n",
       "      <th>1</th>\n",
       "      <td>60750</td>\n",
       "      <td>1580520</td>\n",
       "      <td>-1.0</td>\n",
       "      <td>-1.0</td>\n",
       "      <td>-1.0</td>\n",
       "      <td>-1.0</td>\n",
       "      <td>-1.0</td>\n",
       "      <td>-1.0</td>\n",
       "      <td>-1.0</td>\n",
       "      <td>-1.0</td>\n",
       "      <td>...</td>\n",
       "      <td>-1.0</td>\n",
       "      <td>-1.0</td>\n",
       "      <td>-1.0</td>\n",
       "      <td>-1.0</td>\n",
       "      <td>-1.0</td>\n",
       "      <td>-1.0</td>\n",
       "      <td>-1.0</td>\n",
       "      <td>-1.0</td>\n",
       "      <td>-1.0</td>\n",
       "      <td>-1.000000</td>\n",
       "    </tr>\n",
       "    <tr>\n",
       "      <th>2</th>\n",
       "      <td>595361</td>\n",
       "      <td>484220</td>\n",
       "      <td>-1.0</td>\n",
       "      <td>-1.0</td>\n",
       "      <td>-1.0</td>\n",
       "      <td>-1.0</td>\n",
       "      <td>-1.0</td>\n",
       "      <td>-1.0</td>\n",
       "      <td>-1.0</td>\n",
       "      <td>-1.0</td>\n",
       "      <td>...</td>\n",
       "      <td>-1.0</td>\n",
       "      <td>-1.0</td>\n",
       "      <td>-1.0</td>\n",
       "      <td>-1.0</td>\n",
       "      <td>0.0</td>\n",
       "      <td>1.0</td>\n",
       "      <td>0.0</td>\n",
       "      <td>0.0</td>\n",
       "      <td>21.0</td>\n",
       "      <td>0.000000</td>\n",
       "    </tr>\n",
       "    <tr>\n",
       "      <th>3</th>\n",
       "      <td>45427</td>\n",
       "      <td>326736</td>\n",
       "      <td>-1.0</td>\n",
       "      <td>-1.0</td>\n",
       "      <td>-1.0</td>\n",
       "      <td>-1.0</td>\n",
       "      <td>-1.0</td>\n",
       "      <td>-1.0</td>\n",
       "      <td>-1.0</td>\n",
       "      <td>-1.0</td>\n",
       "      <td>...</td>\n",
       "      <td>0.0</td>\n",
       "      <td>0.0</td>\n",
       "      <td>3.0</td>\n",
       "      <td>0.0</td>\n",
       "      <td>0.0</td>\n",
       "      <td>3.0</td>\n",
       "      <td>0.0</td>\n",
       "      <td>7.0</td>\n",
       "      <td>42.0</td>\n",
       "      <td>0.166667</td>\n",
       "    </tr>\n",
       "    <tr>\n",
       "      <th>4</th>\n",
       "      <td>443345</td>\n",
       "      <td>1049603</td>\n",
       "      <td>-1.0</td>\n",
       "      <td>-1.0</td>\n",
       "      <td>-1.0</td>\n",
       "      <td>-1.0</td>\n",
       "      <td>-1.0</td>\n",
       "      <td>-1.0</td>\n",
       "      <td>-1.0</td>\n",
       "      <td>-1.0</td>\n",
       "      <td>...</td>\n",
       "      <td>-1.0</td>\n",
       "      <td>-1.0</td>\n",
       "      <td>-1.0</td>\n",
       "      <td>-1.0</td>\n",
       "      <td>-1.0</td>\n",
       "      <td>-1.0</td>\n",
       "      <td>-1.0</td>\n",
       "      <td>-1.0</td>\n",
       "      <td>-1.0</td>\n",
       "      <td>-1.000000</td>\n",
       "    </tr>\n",
       "  </tbody>\n",
       "</table>\n",
       "<p>5 rows × 77 columns</p>\n",
       "</div>"
      ],
      "text/plain": [
       "      uid   spu_id  uiclick_3  uibuy_3  ui_ratio_3  uiclick_8  uibuy_8  \\\n",
       "0  117570   771214       -1.0     -1.0        -1.0       -1.0     -1.0   \n",
       "1   60750  1580520       -1.0     -1.0        -1.0       -1.0     -1.0   \n",
       "2  595361   484220       -1.0     -1.0        -1.0       -1.0     -1.0   \n",
       "3   45427   326736       -1.0     -1.0        -1.0       -1.0     -1.0   \n",
       "4  443345  1049603       -1.0     -1.0        -1.0       -1.0     -1.0   \n",
       "\n",
       "   ui_ratio_8  uiclick_21  uibuy_21     ...       ub_ratio_8  ubbuy_21  \\\n",
       "0        -1.0        -1.0      -1.0     ...             -1.0       0.0   \n",
       "1        -1.0        -1.0      -1.0     ...             -1.0      -1.0   \n",
       "2        -1.0        -1.0      -1.0     ...             -1.0      -1.0   \n",
       "3        -1.0        -1.0      -1.0     ...              0.0       0.0   \n",
       "4        -1.0        -1.0      -1.0     ...             -1.0      -1.0   \n",
       "\n",
       "   ubclick_21  ub_ratio_21  ubbuy_34  ubclick_34  ub_ratio_34  ubbuy_89  \\\n",
       "0         1.0          0.0       0.0         1.0          0.0       0.0   \n",
       "1        -1.0         -1.0      -1.0        -1.0         -1.0      -1.0   \n",
       "2        -1.0         -1.0       0.0         1.0          0.0       0.0   \n",
       "3         3.0          0.0       0.0         3.0          0.0       7.0   \n",
       "4        -1.0         -1.0      -1.0        -1.0         -1.0      -1.0   \n",
       "\n",
       "   ubclick_89  ub_ratio_89  \n",
       "0         2.0     0.000000  \n",
       "1        -1.0    -1.000000  \n",
       "2        21.0     0.000000  \n",
       "3        42.0     0.166667  \n",
       "4        -1.0    -1.000000  \n",
       "\n",
       "[5 rows x 77 columns]"
      ]
     },
     "execution_count": 4,
     "metadata": {},
     "output_type": "execute_result"
    }
   ],
   "source": [
    "sub = pd.read_csv('cache/sub_feat3.csv')\n",
    "sub = sub.fillna(-1)\n",
    "sub.head()"
   ]
  },
  {
   "cell_type": "code",
   "execution_count": 5,
   "metadata": {
    "collapsed": false
   },
   "outputs": [
    {
     "data": {
      "text/html": [
       "<div>\n",
       "<table border=\"1\" class=\"dataframe\">\n",
       "  <thead>\n",
       "    <tr style=\"text-align: right;\">\n",
       "      <th></th>\n",
       "      <th>uid</th>\n",
       "      <th>spu_id</th>\n",
       "      <th>type</th>\n",
       "      <th>uiclick</th>\n",
       "      <th>uibuy</th>\n",
       "      <th>ui_ratio</th>\n",
       "      <th>uiclick_2</th>\n",
       "      <th>uibuy_2</th>\n",
       "      <th>ui_ratio_2</th>\n",
       "      <th>uiclick_3</th>\n",
       "      <th>...</th>\n",
       "      <th>i_ratio_21</th>\n",
       "      <th>iclick_34</th>\n",
       "      <th>ibuy_34</th>\n",
       "      <th>i_ratio_34</th>\n",
       "      <th>iclick_55</th>\n",
       "      <th>ibuy_55</th>\n",
       "      <th>i_ratio_55</th>\n",
       "      <th>iclick_89</th>\n",
       "      <th>ibuy_89</th>\n",
       "      <th>i_ratio_89</th>\n",
       "    </tr>\n",
       "  </thead>\n",
       "  <tbody>\n",
       "    <tr>\n",
       "      <th>count</th>\n",
       "      <td>5.331337e+06</td>\n",
       "      <td>5.331337e+06</td>\n",
       "      <td>5.331337e+06</td>\n",
       "      <td>5.331337e+06</td>\n",
       "      <td>5.331337e+06</td>\n",
       "      <td>5.331337e+06</td>\n",
       "      <td>5.331337e+06</td>\n",
       "      <td>5.331337e+06</td>\n",
       "      <td>5.331337e+06</td>\n",
       "      <td>5.331337e+06</td>\n",
       "      <td>...</td>\n",
       "      <td>5.331337e+06</td>\n",
       "      <td>5.331337e+06</td>\n",
       "      <td>5.331337e+06</td>\n",
       "      <td>5.331337e+06</td>\n",
       "      <td>5.331337e+06</td>\n",
       "      <td>5.331337e+06</td>\n",
       "      <td>5.331337e+06</td>\n",
       "      <td>5.331337e+06</td>\n",
       "      <td>5.331337e+06</td>\n",
       "      <td>5.331337e+06</td>\n",
       "    </tr>\n",
       "    <tr>\n",
       "      <th>mean</th>\n",
       "      <td>3.253177e+05</td>\n",
       "      <td>1.057858e+06</td>\n",
       "      <td>1.096704e-02</td>\n",
       "      <td>-9.917760e-01</td>\n",
       "      <td>-9.958613e-01</td>\n",
       "      <td>-9.958634e-01</td>\n",
       "      <td>-9.838671e-01</td>\n",
       "      <td>-9.919341e-01</td>\n",
       "      <td>-9.919390e-01</td>\n",
       "      <td>-9.755232e-01</td>\n",
       "      <td>...</td>\n",
       "      <td>-1.329755e-01</td>\n",
       "      <td>1.191870e+02</td>\n",
       "      <td>1.149187e+00</td>\n",
       "      <td>-1.256255e-01</td>\n",
       "      <td>1.747665e+02</td>\n",
       "      <td>1.893878e+00</td>\n",
       "      <td>-1.112332e-01</td>\n",
       "      <td>2.021125e+02</td>\n",
       "      <td>2.485608e+00</td>\n",
       "      <td>-1.055906e-01</td>\n",
       "    </tr>\n",
       "    <tr>\n",
       "      <th>std</th>\n",
       "      <td>1.875326e+05</td>\n",
       "      <td>6.102542e+05</td>\n",
       "      <td>1.041478e-01</td>\n",
       "      <td>1.280365e-01</td>\n",
       "      <td>6.464812e-02</td>\n",
       "      <td>6.458985e-02</td>\n",
       "      <td>1.798463e-01</td>\n",
       "      <td>9.007013e-02</td>\n",
       "      <td>8.997528e-02</td>\n",
       "      <td>2.220348e-01</td>\n",
       "      <td>...</td>\n",
       "      <td>3.542114e-01</td>\n",
       "      <td>2.432904e+02</td>\n",
       "      <td>5.366428e+00</td>\n",
       "      <td>3.462475e-01</td>\n",
       "      <td>3.510529e+02</td>\n",
       "      <td>9.268372e+00</td>\n",
       "      <td>3.300972e-01</td>\n",
       "      <td>4.053342e+02</td>\n",
       "      <td>1.334954e+01</td>\n",
       "      <td>3.235211e-01</td>\n",
       "    </tr>\n",
       "    <tr>\n",
       "      <th>min</th>\n",
       "      <td>3.000000e+00</td>\n",
       "      <td>2.000000e+00</td>\n",
       "      <td>0.000000e+00</td>\n",
       "      <td>-1.000000e+00</td>\n",
       "      <td>-1.000000e+00</td>\n",
       "      <td>-1.000000e+00</td>\n",
       "      <td>-1.000000e+00</td>\n",
       "      <td>-1.000000e+00</td>\n",
       "      <td>-1.000000e+00</td>\n",
       "      <td>-1.000000e+00</td>\n",
       "      <td>...</td>\n",
       "      <td>-1.000000e+00</td>\n",
       "      <td>-1.000000e+00</td>\n",
       "      <td>-1.000000e+00</td>\n",
       "      <td>-1.000000e+00</td>\n",
       "      <td>-1.000000e+00</td>\n",
       "      <td>-1.000000e+00</td>\n",
       "      <td>-1.000000e+00</td>\n",
       "      <td>-1.000000e+00</td>\n",
       "      <td>-1.000000e+00</td>\n",
       "      <td>-1.000000e+00</td>\n",
       "    </tr>\n",
       "    <tr>\n",
       "      <th>25%</th>\n",
       "      <td>1.635880e+05</td>\n",
       "      <td>5.290100e+05</td>\n",
       "      <td>0.000000e+00</td>\n",
       "      <td>-1.000000e+00</td>\n",
       "      <td>-1.000000e+00</td>\n",
       "      <td>-1.000000e+00</td>\n",
       "      <td>-1.000000e+00</td>\n",
       "      <td>-1.000000e+00</td>\n",
       "      <td>-1.000000e+00</td>\n",
       "      <td>-1.000000e+00</td>\n",
       "      <td>...</td>\n",
       "      <td>0.000000e+00</td>\n",
       "      <td>6.000000e+00</td>\n",
       "      <td>0.000000e+00</td>\n",
       "      <td>0.000000e+00</td>\n",
       "      <td>1.000000e+01</td>\n",
       "      <td>0.000000e+00</td>\n",
       "      <td>0.000000e+00</td>\n",
       "      <td>1.100000e+01</td>\n",
       "      <td>0.000000e+00</td>\n",
       "      <td>0.000000e+00</td>\n",
       "    </tr>\n",
       "    <tr>\n",
       "      <th>50%</th>\n",
       "      <td>3.256190e+05</td>\n",
       "      <td>1.062819e+06</td>\n",
       "      <td>0.000000e+00</td>\n",
       "      <td>-1.000000e+00</td>\n",
       "      <td>-1.000000e+00</td>\n",
       "      <td>-1.000000e+00</td>\n",
       "      <td>-1.000000e+00</td>\n",
       "      <td>-1.000000e+00</td>\n",
       "      <td>-1.000000e+00</td>\n",
       "      <td>-1.000000e+00</td>\n",
       "      <td>...</td>\n",
       "      <td>0.000000e+00</td>\n",
       "      <td>3.400000e+01</td>\n",
       "      <td>0.000000e+00</td>\n",
       "      <td>0.000000e+00</td>\n",
       "      <td>5.100000e+01</td>\n",
       "      <td>0.000000e+00</td>\n",
       "      <td>0.000000e+00</td>\n",
       "      <td>5.900000e+01</td>\n",
       "      <td>0.000000e+00</td>\n",
       "      <td>0.000000e+00</td>\n",
       "    </tr>\n",
       "    <tr>\n",
       "      <th>75%</th>\n",
       "      <td>4.873600e+05</td>\n",
       "      <td>1.585468e+06</td>\n",
       "      <td>0.000000e+00</td>\n",
       "      <td>-1.000000e+00</td>\n",
       "      <td>-1.000000e+00</td>\n",
       "      <td>-1.000000e+00</td>\n",
       "      <td>-1.000000e+00</td>\n",
       "      <td>-1.000000e+00</td>\n",
       "      <td>-1.000000e+00</td>\n",
       "      <td>-1.000000e+00</td>\n",
       "      <td>...</td>\n",
       "      <td>4.273504e-03</td>\n",
       "      <td>1.210000e+02</td>\n",
       "      <td>1.000000e+00</td>\n",
       "      <td>4.962779e-03</td>\n",
       "      <td>1.800000e+02</td>\n",
       "      <td>1.000000e+00</td>\n",
       "      <td>6.802721e-03</td>\n",
       "      <td>2.090000e+02</td>\n",
       "      <td>1.000000e+00</td>\n",
       "      <td>7.352941e-03</td>\n",
       "    </tr>\n",
       "    <tr>\n",
       "      <th>max</th>\n",
       "      <td>6.499970e+05</td>\n",
       "      <td>2.114305e+06</td>\n",
       "      <td>1.000000e+00</td>\n",
       "      <td>2.000000e+00</td>\n",
       "      <td>1.000000e+00</td>\n",
       "      <td>1.000000e+00</td>\n",
       "      <td>3.000000e+00</td>\n",
       "      <td>1.000000e+00</td>\n",
       "      <td>1.000000e+00</td>\n",
       "      <td>3.000000e+00</td>\n",
       "      <td>...</td>\n",
       "      <td>1.000000e+00</td>\n",
       "      <td>2.994000e+03</td>\n",
       "      <td>1.400000e+02</td>\n",
       "      <td>1.000000e+00</td>\n",
       "      <td>5.079000e+03</td>\n",
       "      <td>2.800000e+02</td>\n",
       "      <td>1.000000e+00</td>\n",
       "      <td>6.443000e+03</td>\n",
       "      <td>4.890000e+02</td>\n",
       "      <td>1.000000e+00</td>\n",
       "    </tr>\n",
       "  </tbody>\n",
       "</table>\n",
       "<p>8 rows × 93 columns</p>\n",
       "</div>"
      ],
      "text/plain": [
       "                uid        spu_id          type       uiclick         uibuy  \\\n",
       "count  5.331337e+06  5.331337e+06  5.331337e+06  5.331337e+06  5.331337e+06   \n",
       "mean   3.253177e+05  1.057858e+06  1.096704e-02 -9.917760e-01 -9.958613e-01   \n",
       "std    1.875326e+05  6.102542e+05  1.041478e-01  1.280365e-01  6.464812e-02   \n",
       "min    3.000000e+00  2.000000e+00  0.000000e+00 -1.000000e+00 -1.000000e+00   \n",
       "25%    1.635880e+05  5.290100e+05  0.000000e+00 -1.000000e+00 -1.000000e+00   \n",
       "50%    3.256190e+05  1.062819e+06  0.000000e+00 -1.000000e+00 -1.000000e+00   \n",
       "75%    4.873600e+05  1.585468e+06  0.000000e+00 -1.000000e+00 -1.000000e+00   \n",
       "max    6.499970e+05  2.114305e+06  1.000000e+00  2.000000e+00  1.000000e+00   \n",
       "\n",
       "           ui_ratio     uiclick_2       uibuy_2    ui_ratio_2     uiclick_3  \\\n",
       "count  5.331337e+06  5.331337e+06  5.331337e+06  5.331337e+06  5.331337e+06   \n",
       "mean  -9.958634e-01 -9.838671e-01 -9.919341e-01 -9.919390e-01 -9.755232e-01   \n",
       "std    6.458985e-02  1.798463e-01  9.007013e-02  8.997528e-02  2.220348e-01   \n",
       "min   -1.000000e+00 -1.000000e+00 -1.000000e+00 -1.000000e+00 -1.000000e+00   \n",
       "25%   -1.000000e+00 -1.000000e+00 -1.000000e+00 -1.000000e+00 -1.000000e+00   \n",
       "50%   -1.000000e+00 -1.000000e+00 -1.000000e+00 -1.000000e+00 -1.000000e+00   \n",
       "75%   -1.000000e+00 -1.000000e+00 -1.000000e+00 -1.000000e+00 -1.000000e+00   \n",
       "max    1.000000e+00  3.000000e+00  1.000000e+00  1.000000e+00  3.000000e+00   \n",
       "\n",
       "           ...         i_ratio_21     iclick_34       ibuy_34    i_ratio_34  \\\n",
       "count      ...       5.331337e+06  5.331337e+06  5.331337e+06  5.331337e+06   \n",
       "mean       ...      -1.329755e-01  1.191870e+02  1.149187e+00 -1.256255e-01   \n",
       "std        ...       3.542114e-01  2.432904e+02  5.366428e+00  3.462475e-01   \n",
       "min        ...      -1.000000e+00 -1.000000e+00 -1.000000e+00 -1.000000e+00   \n",
       "25%        ...       0.000000e+00  6.000000e+00  0.000000e+00  0.000000e+00   \n",
       "50%        ...       0.000000e+00  3.400000e+01  0.000000e+00  0.000000e+00   \n",
       "75%        ...       4.273504e-03  1.210000e+02  1.000000e+00  4.962779e-03   \n",
       "max        ...       1.000000e+00  2.994000e+03  1.400000e+02  1.000000e+00   \n",
       "\n",
       "          iclick_55       ibuy_55    i_ratio_55     iclick_89       ibuy_89  \\\n",
       "count  5.331337e+06  5.331337e+06  5.331337e+06  5.331337e+06  5.331337e+06   \n",
       "mean   1.747665e+02  1.893878e+00 -1.112332e-01  2.021125e+02  2.485608e+00   \n",
       "std    3.510529e+02  9.268372e+00  3.300972e-01  4.053342e+02  1.334954e+01   \n",
       "min   -1.000000e+00 -1.000000e+00 -1.000000e+00 -1.000000e+00 -1.000000e+00   \n",
       "25%    1.000000e+01  0.000000e+00  0.000000e+00  1.100000e+01  0.000000e+00   \n",
       "50%    5.100000e+01  0.000000e+00  0.000000e+00  5.900000e+01  0.000000e+00   \n",
       "75%    1.800000e+02  1.000000e+00  6.802721e-03  2.090000e+02  1.000000e+00   \n",
       "max    5.079000e+03  2.800000e+02  1.000000e+00  6.443000e+03  4.890000e+02   \n",
       "\n",
       "         i_ratio_89  \n",
       "count  5.331337e+06  \n",
       "mean  -1.055906e-01  \n",
       "std    3.235211e-01  \n",
       "min   -1.000000e+00  \n",
       "25%    0.000000e+00  \n",
       "50%    0.000000e+00  \n",
       "75%    7.352941e-03  \n",
       "max    1.000000e+00  \n",
       "\n",
       "[8 rows x 93 columns]"
      ]
     },
     "execution_count": 5,
     "metadata": {},
     "output_type": "execute_result"
    }
   ],
   "source": [
    "train.describe()"
   ]
  },
  {
   "cell_type": "code",
   "execution_count": null,
   "metadata": {
    "collapsed": true
   },
   "outputs": [],
   "source": [
    "sub.describe()"
   ]
  },
  {
   "cell_type": "code",
   "execution_count": 5,
   "metadata": {
    "collapsed": true
   },
   "outputs": [],
   "source": [
    "#正例\n",
    "train_postive = train[train['type'] == 1]\n",
    "#负例\n",
    "train_negative = train[train['type'] == 0]"
   ]
  },
  {
   "cell_type": "code",
   "execution_count": 6,
   "metadata": {
    "collapsed": false
   },
   "outputs": [
    {
     "data": {
      "text/plain": [
       "(5272868, 58469)"
      ]
     },
     "execution_count": 6,
     "metadata": {},
     "output_type": "execute_result"
    }
   ],
   "source": [
    "del train\n",
    "len(train_negative) , len(train_postive)"
   ]
  },
  {
   "cell_type": "markdown",
   "metadata": {},
   "source": [
    "# 第一个模型"
   ]
  },
  {
   "cell_type": "code",
   "execution_count": 7,
   "metadata": {
    "collapsed": false
   },
   "outputs": [
    {
     "data": {
      "text/plain": [
       "4218294"
      ]
     },
     "execution_count": 7,
     "metadata": {},
     "output_type": "execute_result"
    }
   ],
   "source": [
    "sampler = np.random.randint(0,len(train_negative), size = int(len(train_negative)*0.8))\n",
    "len(sampler)"
   ]
  },
  {
   "cell_type": "code",
   "execution_count": 8,
   "metadata": {
    "collapsed": true
   },
   "outputs": [],
   "source": [
    "train = pd.concat([train_postive,train_postive,train_postive,train_postive, train_negative.take(sampler),train_postive,train_postive,train_postive,train_postive],axis=0,ignore_index=True)\n",
    "del sampler"
   ]
  },
  {
   "cell_type": "code",
   "execution_count": 9,
   "metadata": {
    "collapsed": true
   },
   "outputs": [],
   "source": [
    "train_label = train['type']\n",
    "train = train.drop(['uid', 'spu_id', 'type','date'],axis =1) "
   ]
  },
  {
   "cell_type": "code",
   "execution_count": 10,
   "metadata": {
    "collapsed": true
   },
   "outputs": [],
   "source": [
    "dtrain = xgb.DMatrix(train, train_label)"
   ]
  },
  {
   "cell_type": "code",
   "execution_count": 11,
   "metadata": {
    "collapsed": true
   },
   "outputs": [],
   "source": [
    "del train, train_label"
   ]
  },
  {
   "cell_type": "code",
   "execution_count": 12,
   "metadata": {
    "collapsed": false
   },
   "outputs": [
    {
     "name": "stdout",
     "output_type": "stream",
     "text": [
      "76.8630001545\n"
     ]
    }
   ],
   "source": [
    "params = {        \n",
    "            'max_depth':3,\n",
    "            'min_child_weight':3,\n",
    "            'eta':0.3,\n",
    "            'subsample':1,\n",
    "            'colsample_bytree':1,\n",
    "            'scale_pos_weight':1,\n",
    "            'max_delta_step': 0,\n",
    "            'eval_metric':'auc',\n",
    "            'lambda' :0,\n",
    "            'alpha': 0,\n",
    "            'gamma': 0,\n",
    "            'seed': 1,\n",
    "            'objective':'binary:logistic',\n",
    "}\n",
    "t0 = time.time()\n",
    "model1 = xgb.train(params,dtrain,num_boost_round=17)\n",
    "print time.time() - t0"
   ]
  },
  {
   "cell_type": "code",
   "execution_count": 13,
   "metadata": {
    "collapsed": false
   },
   "outputs": [
    {
     "data": {
      "text/plain": [
       "<matplotlib.axes._subplots.AxesSubplot at 0x7f1107b8>"
      ]
     },
     "execution_count": 13,
     "metadata": {},
     "output_type": "execute_result"
    },
    {
     "data": {
      "image/png": "[encoded data removed]",
      "text/plain": [
       "<matplotlib.figure.Figure at 0x68749f98>"
      ]
     },
     "metadata": {},
     "output_type": "display_data"
    }
   ],
   "source": [
    "%matplotlib inline\n",
    "import seaborn as sns\n",
    "sns.set(font_scale = 0.5)\n",
    "xgb.plot_importance(model1)"
   ]
  },
  {
   "cell_type": "markdown",
   "metadata": {},
   "source": [
    "# 第二个模型"
   ]
  },
  {
   "cell_type": "code",
   "execution_count": 33,
   "metadata": {
    "collapsed": false
   },
   "outputs": [
    {
     "data": {
      "text/plain": [
       "1054573"
      ]
     },
     "execution_count": 33,
     "metadata": {},
     "output_type": "execute_result"
    }
   ],
   "source": [
    "sampler = np.random.randint(0,len(train_negative), size = int(len(train_negative)/5))\n",
    "part_negative = train_negative.take(sampler)\n",
    "len(part_negative)"
   ]
  },
  {
   "cell_type": "code",
   "execution_count": 34,
   "metadata": {
    "collapsed": true
   },
   "outputs": [],
   "source": [
    "train = pd.concat([train_postive,part_negative,train_postive],axis=0,ignore_index=True)"
   ]
  },
  {
   "cell_type": "code",
   "execution_count": 35,
   "metadata": {
    "collapsed": true
   },
   "outputs": [],
   "source": [
    "train_label = train['type']\n",
    "train = train.drop(['uid', 'spu_id', 'type','date'],axis =1) "
   ]
  },
  {
   "cell_type": "code",
   "execution_count": 36,
   "metadata": {
    "collapsed": true
   },
   "outputs": [],
   "source": [
    "dtrain = xgb.DMatrix(train, train_label)"
   ]
  },
  {
   "cell_type": "code",
   "execution_count": 38,
   "metadata": {
    "collapsed": false
   },
   "outputs": [
    {
     "name": "stdout",
     "output_type": "stream",
     "text": [
      "23.0450000763\n"
     ]
    }
   ],
   "source": [
    "t0 = time.time()\n",
    "model2 = xgb.train(params,dtrain,num_boost_round=13)\n",
    "print time.time() - t0"
   ]
  },
  {
   "cell_type": "code",
   "execution_count": 39,
   "metadata": {
    "collapsed": false
   },
   "outputs": [
    {
     "data": {
      "text/plain": [
       "<matplotlib.axes._subplots.AxesSubplot at 0xc269c550>"
      ]
     },
     "execution_count": 39,
     "metadata": {},
     "output_type": "execute_result"
    },
    {
     "data": {
      "image/png": "[encoded data removed]",
      "text/plain": [
       "<matplotlib.figure.Figure at 0xca3f41d0>"
      ]
     },
     "metadata": {},
     "output_type": "display_data"
    }
   ],
   "source": [
    "sns.set(font_scale = 0.5)\n",
    "xgb.plot_importance(model)"
   ]
  },
  {
   "cell_type": "markdown",
   "metadata": {},
   "source": [
    "# 模型3"
   ]
  },
  {
   "cell_type": "code",
   "execution_count": 42,
   "metadata": {
    "collapsed": false
   },
   "outputs": [
    {
     "data": {
      "text/plain": [
       "1054573"
      ]
     },
     "execution_count": 42,
     "metadata": {},
     "output_type": "execute_result"
    }
   ],
   "source": [
    "sampler = np.random.randint(0,len(train_negative), size = int(len(train_negative)/5))\n",
    "part_negative = train_negative.take(sampler)\n",
    "len(part_negative)"
   ]
  },
  {
   "cell_type": "code",
   "execution_count": 43,
   "metadata": {
    "collapsed": true
   },
   "outputs": [],
   "source": [
    "train = pd.concat([train_postive,part_negative,train_postive],axis=0,ignore_index=True)\n",
    "train_label = train['type']\n",
    "train = train.drop(['uid', 'spu_id', 'type','date'],axis =1) \n",
    "dtrain = xgb.DMatrix(train, train_label)"
   ]
  },
  {
   "cell_type": "code",
   "execution_count": 44,
   "metadata": {
    "collapsed": false
   },
   "outputs": [
    {
     "name": "stdout",
     "output_type": "stream",
     "text": [
      "24.7790000439\n"
     ]
    }
   ],
   "source": [
    "t0 = time.time()\n",
    "model3 = xgb.train(params,dtrain,num_boost_round=13)\n",
    "print time.time() - t0"
   ]
  },
  {
   "cell_type": "code",
   "execution_count": 45,
   "metadata": {
    "collapsed": false
   },
   "outputs": [
    {
     "data": {
      "text/plain": [
       "<matplotlib.axes._subplots.AxesSubplot at 0x8669c898>"
      ]
     },
     "execution_count": 45,
     "metadata": {},
     "output_type": "execute_result"
    },
    {
     "data": {
      "image/png": "[encoded data removed]",
      "text/plain": [
       "<matplotlib.figure.Figure at 0x7bd7d0b8>"
      ]
     },
     "metadata": {},
     "output_type": "display_data"
    }
   ],
   "source": [
    "sns.set(font_scale = 0.5)\n",
    "xgb.plot_importance(model)"
   ]
  },
  {
   "cell_type": "code",
   "execution_count": 46,
   "metadata": {
    "collapsed": false
   },
   "outputs": [
    {
     "data": {
      "text/plain": [
       "1054573"
      ]
     },
     "execution_count": 46,
     "metadata": {},
     "output_type": "execute_result"
    }
   ],
   "source": [
    "sampler = np.random.randint(0,len(train_negative), size = int(len(train_negative)/5))\n",
    "part_negative = train_negative.take(sampler)\n",
    "len(part_negative)"
   ]
  },
  {
   "cell_type": "code",
   "execution_count": 47,
   "metadata": {
    "collapsed": true
   },
   "outputs": [],
   "source": [
    "train = pd.concat([train_postive,part_negative,train_postive],axis=0,ignore_index=True)\n",
    "train_label = train['type']\n",
    "train = train.drop(['uid', 'spu_id', 'type','date'],axis =1) \n",
    "dtrain = xgb.DMatrix(train, train_label)"
   ]
  },
  {
   "cell_type": "code",
   "execution_count": 48,
   "metadata": {
    "collapsed": false
   },
   "outputs": [
    {
     "name": "stdout",
     "output_type": "stream",
     "text": [
      "24.3529999256\n"
     ]
    }
   ],
   "source": [
    "t0 = time.time()\n",
    "model4 = xgb.train(params,dtrain,num_boost_round=13)\n",
    "print time.time() - t0"
   ]
  },
  {
   "cell_type": "code",
   "execution_count": 49,
   "metadata": {
    "collapsed": false
   },
   "outputs": [
    {
     "data": {
      "text/plain": [
       "<matplotlib.axes._subplots.AxesSubplot at 0x3e40cc88>"
      ]
     },
     "execution_count": 49,
     "metadata": {},
     "output_type": "execute_result"
    },
    {
     "data": {
      "image/png": "[encoded data removed]",
      "text/plain": [
       "<matplotlib.figure.Figure at 0x67c71c18>"
      ]
     },
     "metadata": {},
     "output_type": "display_data"
    }
   ],
   "source": [
    "sns.set(font_scale = 0.5)\n",
    "xgb.plot_importance(model)"
   ]
  },
  {
   "cell_type": "code",
   "execution_count": 53,
   "metadata": {
    "collapsed": false
   },
   "outputs": [
    {
     "data": {
      "text/plain": [
       "1054573"
      ]
     },
     "execution_count": 53,
     "metadata": {},
     "output_type": "execute_result"
    }
   ],
   "source": [
    "sampler = np.random.randint(0,len(train_negative), size = int(len(train_negative)/5))\n",
    "part_negative = train_negative.take(sampler)\n",
    "len(part_negative)"
   ]
  },
  {
   "cell_type": "code",
   "execution_count": 54,
   "metadata": {
    "collapsed": true
   },
   "outputs": [],
   "source": [
    "train = pd.concat([train_postive,part_negative,train_postive],axis=0,ignore_index=True)\n",
    "train_label = train['type']\n",
    "train = train.drop(['uid', 'spu_id', 'type','date'],axis =1) \n",
    "dtrain = xgb.DMatrix(train, train_label)"
   ]
  },
  {
   "cell_type": "code",
   "execution_count": 55,
   "metadata": {
    "collapsed": false
   },
   "outputs": [
    {
     "name": "stdout",
     "output_type": "stream",
     "text": [
      "23.2650001049\n"
     ]
    }
   ],
   "source": [
    "t0 = time.time()\n",
    "model5 = xgb.train(params,dtrain,num_boost_round=13)\n",
    "print time.time() - t0"
   ]
  },
  {
   "cell_type": "code",
   "execution_count": 56,
   "metadata": {
    "collapsed": false
   },
   "outputs": [
    {
     "data": {
      "text/plain": [
       "<matplotlib.axes._subplots.AxesSubplot at 0xf75c5b38>"
      ]
     },
     "execution_count": 56,
     "metadata": {},
     "output_type": "execute_result"
    },
    {
     "data": {
      "image/png": "[encoded data removed]",
      "text/plain": [
       "<matplotlib.figure.Figure at 0x1fc78f60>"
      ]
     },
     "metadata": {},
     "output_type": "display_data"
    }
   ],
   "source": [
    "sns.set(font_scale = 0.5)\n",
    "xgb.plot_importance(model)"
   ]
  },
  {
   "cell_type": "markdown",
   "metadata": {},
   "source": [
    "# 开始预测"
   ]
  },
  {
   "cell_type": "code",
   "execution_count": 14,
   "metadata": {
    "collapsed": false
   },
   "outputs": [],
   "source": [
    "sub = sub.drop(['uid', 'spu_id'],axis=1) "
   ]
  },
  {
   "cell_type": "code",
   "execution_count": 15,
   "metadata": {
    "collapsed": true
   },
   "outputs": [],
   "source": [
    "x_feat = xgb.DMatrix(sub)"
   ]
  },
  {
   "cell_type": "code",
   "execution_count": 16,
   "metadata": {
    "collapsed": false
   },
   "outputs": [
    {
     "name": "stdout",
     "output_type": "stream",
     "text": [
      "[ 0.06262468  0.23696475  0.02823382 ...,  0.0630482   0.18348193\n",
      "  0.03792113]\n"
     ]
    }
   ],
   "source": [
    "p1 = model1.predict(x_feat)\n",
    "print p1"
   ]
  },
  {
   "cell_type": "code",
   "execution_count": 63,
   "metadata": {
    "collapsed": false
   },
   "outputs": [
    {
     "name": "stdout",
     "output_type": "stream",
     "text": [
      "[ 0.10814098  0.1864697   0.03206999 ...,  0.05449316  0.18862797\n",
      "  0.05207403]\n"
     ]
    }
   ],
   "source": [
    "p2 = model2.predict(x_feat)\n",
    "print p2"
   ]
  },
  {
   "cell_type": "code",
   "execution_count": 64,
   "metadata": {
    "collapsed": false
   },
   "outputs": [
    {
     "name": "stdout",
     "output_type": "stream",
     "text": [
      "[ 0.10271742  0.19789957  0.03181181 ...,  0.04457035  0.19083403\n",
      "  0.04999873]\n"
     ]
    }
   ],
   "source": [
    "p3 = model3.predict(x_feat)\n",
    "print p3"
   ]
  },
  {
   "cell_type": "code",
   "execution_count": 65,
   "metadata": {
    "collapsed": false
   },
   "outputs": [
    {
     "name": "stdout",
     "output_type": "stream",
     "text": [
      "[ 0.10907139  0.18214524  0.03685917 ...,  0.04944497  0.20798935\n",
      "  0.05330519]\n"
     ]
    }
   ],
   "source": [
    "p4 = model4.predict(x_feat)\n",
    "print p4"
   ]
  },
  {
   "cell_type": "code",
   "execution_count": 66,
   "metadata": {
    "collapsed": false
   },
   "outputs": [
    {
     "name": "stdout",
     "output_type": "stream",
     "text": [
      "[ 0.10859682  0.20213854  0.03690812 ...,  0.05653548  0.2011985\n",
      "  0.05416782]\n"
     ]
    }
   ],
   "source": [
    "p5 = model5.predict(x_feat)\n",
    "print p5"
   ]
  },
  {
   "cell_type": "code",
   "execution_count": 67,
   "metadata": {
    "collapsed": true
   },
   "outputs": [],
   "source": [
    "p = np.array(p1) +np.array(p2) ++np.array(p3) +np.array(p4) +np.array(p5)\n",
    "p = p/5.0"
   ]
  },
  {
   "cell_type": "code",
   "execution_count": 68,
   "metadata": {
    "collapsed": false
   },
   "outputs": [
    {
     "data": {
      "text/plain": [
       "array([ 0.10834183,  0.19446343,  0.03470224, ...,  0.05149471,\n",
       "        0.2009335 ,  0.05323384], dtype=float32)"
      ]
     },
     "execution_count": 68,
     "metadata": {},
     "output_type": "execute_result"
    }
   ],
   "source": [
    "p"
   ]
  },
  {
   "cell_type": "code",
   "execution_count": 17,
   "metadata": {
    "collapsed": true
   },
   "outputs": [],
   "source": [
    "y_pred = pd.DataFrame(p1)\n",
    "y_pred.to_csv('./cache/boost_result4.txt',index=False,header=False, float_format='%.3f')"
   ]
  },
  {
   "cell_type": "code",
   "execution_count": 19,
   "metadata": {
    "collapsed": false
   },
   "outputs": [
    {
     "data": {
      "text/plain": [
       "63424"
      ]
     },
     "execution_count": 19,
     "metadata": {},
     "output_type": "execute_result"
    }
   ],
   "source": [
    "np.where(p1>0.5, 1,0).sum()"
   ]
  },
  {
   "cell_type": "code",
   "execution_count": null,
   "metadata": {
    "collapsed": true
   },
   "outputs": [],
   "source": []
  }
 ],
 "metadata": {
  "kernelspec": {
   "display_name": "Python 2",
   "language": "python",
   "name": "python2"
  },
  "language_info": {
   "codemirror_mode": {
    "name": "ipython",
    "version": 2
   },
   "file_extension": ".py",
   "mimetype": "text/x-python",
   "name": "python",
   "nbconvert_exporter": "python",
   "pygments_lexer": "ipython2",
   "version": "2.7.13"
  }
 },
 "nbformat": 4,
 "nbformat_minor": 2
}
