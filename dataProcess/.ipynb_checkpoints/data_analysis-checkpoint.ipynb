{
 "cells": [
  {
   "cell_type": "code",
   "execution_count": 1,
   "metadata": {
    "collapsed": false
   },
   "outputs": [],
   "source": [
    "%matplotlib inline\n",
    "import numpy as py\n",
    "import pandas as pd\n",
    "import matplotlib.pyplot as plt\n",
    "from datetime import datetime"
   ]
  },
  {
   "cell_type": "code",
   "execution_count": 2,
   "metadata": {
    "collapsed": true
   },
   "outputs": [],
   "source": [
    "fileList = ['../data/user_action_train.txt','../data/goods_train.txt']\n",
    "import data_clean as dc"
   ]
  },
  {
   "cell_type": "code",
   "execution_count": 3,
   "metadata": {
    "collapsed": false,
    "scrolled": true
   },
   "outputs": [
    {
     "ename": "AttributeError",
     "evalue": "'module' object has no attribute 'get_user_action_data'",
     "output_type": "error",
     "traceback": [
      "\u001b[0;31m\u001b[0m",
      "\u001b[0;31mAttributeError\u001b[0mTraceback (most recent call last)",
      "\u001b[0;32m<ipython-input-3-cb7e3ffe7cf6>\u001b[0m in \u001b[0;36m<module>\u001b[0;34m()\u001b[0m\n\u001b[0;32m----> 1\u001b[0;31m \u001b[0mdf_action\u001b[0m \u001b[1;33m=\u001b[0m \u001b[0mdc\u001b[0m\u001b[1;33m.\u001b[0m\u001b[0mget_user_action_data\u001b[0m\u001b[1;33m(\u001b[0m\u001b[0mfileList\u001b[0m\u001b[1;33m[\u001b[0m\u001b[1;36m0\u001b[0m\u001b[1;33m]\u001b[0m\u001b[1;33m)\u001b[0m\u001b[1;33m\u001b[0m\u001b[0m\n\u001b[0m\u001b[1;32m      2\u001b[0m \u001b[0mdf_action\u001b[0m\u001b[1;33m.\u001b[0m\u001b[0mhead\u001b[0m\u001b[1;33m(\u001b[0m\u001b[1;33m)\u001b[0m\u001b[1;33m\u001b[0m\u001b[0m\n",
      "\u001b[0;31mAttributeError\u001b[0m: 'module' object has no attribute 'get_user_action_data'"
     ]
    }
   ],
   "source": [
    "df_action = dc.get_user_action_data(fileList[0])\n",
    "df_action.head()"
   ]
  },
  {
   "cell_type": "code",
   "execution_count": 6,
   "metadata": {
    "collapsed": false
   },
   "outputs": [
    {
     "data": {
      "text/html": [
       "<div>\n",
       "<table border=\"1\" class=\"dataframe\">\n",
       "  <thead>\n",
       "    <tr style=\"text-align: right;\">\n",
       "      <th></th>\n",
       "      <th>uid</th>\n",
       "      <th>spu_id</th>\n",
       "      <th>action_type</th>\n",
       "      <th>date</th>\n",
       "    </tr>\n",
       "  </thead>\n",
       "  <tbody>\n",
       "    <tr>\n",
       "      <th>98</th>\n",
       "      <td>372891</td>\n",
       "      <td>858282</td>\n",
       "      <td>1</td>\n",
       "      <td>02-18</td>\n",
       "    </tr>\n",
       "    <tr>\n",
       "      <th>200</th>\n",
       "      <td>220378</td>\n",
       "      <td>1834930</td>\n",
       "      <td>1</td>\n",
       "      <td>02-21</td>\n",
       "    </tr>\n",
       "    <tr>\n",
       "      <th>281</th>\n",
       "      <td>380056</td>\n",
       "      <td>1063802</td>\n",
       "      <td>1</td>\n",
       "      <td>01-03</td>\n",
       "    </tr>\n",
       "    <tr>\n",
       "      <th>317</th>\n",
       "      <td>463690</td>\n",
       "      <td>358967</td>\n",
       "      <td>1</td>\n",
       "      <td>03-25</td>\n",
       "    </tr>\n",
       "    <tr>\n",
       "      <th>393</th>\n",
       "      <td>71937</td>\n",
       "      <td>1469563</td>\n",
       "      <td>1</td>\n",
       "      <td>02-16</td>\n",
       "    </tr>\n",
       "  </tbody>\n",
       "</table>\n",
       "</div>"
      ],
      "text/plain": [
       "        uid   spu_id  action_type   date\n",
       "98   372891   858282            1  02-18\n",
       "200  220378  1834930            1  02-21\n",
       "281  380056  1063802            1  01-03\n",
       "317  463690   358967            1  03-25\n",
       "393   71937  1469563            1  02-16"
      ]
     },
     "execution_count": 6,
     "metadata": {},
     "output_type": "execute_result"
    }
   ],
   "source": [
    "#提取购买了的数据\n",
    "df_buy = df_action[df_action['action_type']==1]\n",
    "df_buy.head()"
   ]
  },
  {
   "cell_type": "code",
   "execution_count": 7,
   "metadata": {
    "collapsed": false
   },
   "outputs": [
    {
     "name": "stderr",
     "output_type": "stream",
     "text": [
      "D:\\myProgramFiles\\Anaconda2\\lib\\site-packages\\ipykernel\\__main__.py:2: SettingWithCopyWarning: \n",
      "A value is trying to be set on a copy of a slice from a DataFrame.\n",
      "Try using .loc[row_indexer,col_indexer] = value instead\n",
      "\n",
      "See the caveats in the documentation: http://pandas.pydata.org/pandas-docs/stable/indexing.html#indexing-view-versus-copy\n",
      "  from ipykernel import kernelapp as app\n"
     ]
    },
    {
     "data": {
      "text/html": [
       "<div>\n",
       "<table border=\"1\" class=\"dataframe\">\n",
       "  <thead>\n",
       "    <tr style=\"text-align: right;\">\n",
       "      <th></th>\n",
       "      <th>uid</th>\n",
       "      <th>spu_id</th>\n",
       "      <th>action_type</th>\n",
       "      <th>date</th>\n",
       "    </tr>\n",
       "  </thead>\n",
       "  <tbody>\n",
       "    <tr>\n",
       "      <th>98</th>\n",
       "      <td>372891</td>\n",
       "      <td>858282</td>\n",
       "      <td>1</td>\n",
       "      <td>1900-02-18</td>\n",
       "    </tr>\n",
       "    <tr>\n",
       "      <th>200</th>\n",
       "      <td>220378</td>\n",
       "      <td>1834930</td>\n",
       "      <td>1</td>\n",
       "      <td>1900-02-21</td>\n",
       "    </tr>\n",
       "    <tr>\n",
       "      <th>281</th>\n",
       "      <td>380056</td>\n",
       "      <td>1063802</td>\n",
       "      <td>1</td>\n",
       "      <td>1900-01-03</td>\n",
       "    </tr>\n",
       "    <tr>\n",
       "      <th>317</th>\n",
       "      <td>463690</td>\n",
       "      <td>358967</td>\n",
       "      <td>1</td>\n",
       "      <td>1900-03-25</td>\n",
       "    </tr>\n",
       "    <tr>\n",
       "      <th>393</th>\n",
       "      <td>71937</td>\n",
       "      <td>1469563</td>\n",
       "      <td>1</td>\n",
       "      <td>1900-02-16</td>\n",
       "    </tr>\n",
       "  </tbody>\n",
       "</table>\n",
       "</div>"
      ],
      "text/plain": [
       "        uid   spu_id  action_type       date\n",
       "98   372891   858282            1 1900-02-18\n",
       "200  220378  1834930            1 1900-02-21\n",
       "281  380056  1063802            1 1900-01-03\n",
       "317  463690   358967            1 1900-03-25\n",
       "393   71937  1469563            1 1900-02-16"
      ]
     },
     "execution_count": 7,
     "metadata": {},
     "output_type": "execute_result"
    }
   ],
   "source": [
    "#将字符串时间转换成时间对象\n",
    "df_buy['date'] = df_buy['date'].apply(lambda x:datetime.strptime(x, '%m-%d'))\n",
    "df_buy.head()"
   ]
  },
  {
   "cell_type": "markdown",
   "metadata": {},
   "source": [
    "## 一个月每天购买情况\n",
    "1月份"
   ]
  },
  {
   "cell_type": "code",
   "execution_count": 9,
   "metadata": {
    "collapsed": false
   },
   "outputs": [
    {
     "data": {
      "text/html": [
       "<div>\n",
       "<table border=\"1\" class=\"dataframe\">\n",
       "  <thead>\n",
       "    <tr style=\"text-align: right;\">\n",
       "      <th></th>\n",
       "      <th>uid</th>\n",
       "      <th>spu_id</th>\n",
       "      <th>action_type</th>\n",
       "      <th>date</th>\n",
       "    </tr>\n",
       "  </thead>\n",
       "  <tbody>\n",
       "    <tr>\n",
       "      <th>281</th>\n",
       "      <td>380056</td>\n",
       "      <td>1063802</td>\n",
       "      <td>1</td>\n",
       "      <td>1900-01-03</td>\n",
       "    </tr>\n",
       "    <tr>\n",
       "      <th>440</th>\n",
       "      <td>152119</td>\n",
       "      <td>1199308</td>\n",
       "      <td>1</td>\n",
       "      <td>1900-01-09</td>\n",
       "    </tr>\n",
       "    <tr>\n",
       "      <th>949</th>\n",
       "      <td>24017</td>\n",
       "      <td>418363</td>\n",
       "      <td>1</td>\n",
       "      <td>1900-01-03</td>\n",
       "    </tr>\n",
       "    <tr>\n",
       "      <th>1115</th>\n",
       "      <td>443444</td>\n",
       "      <td>1472475</td>\n",
       "      <td>1</td>\n",
       "      <td>1900-01-06</td>\n",
       "    </tr>\n",
       "    <tr>\n",
       "      <th>1232</th>\n",
       "      <td>403090</td>\n",
       "      <td>726334</td>\n",
       "      <td>1</td>\n",
       "      <td>1900-01-12</td>\n",
       "    </tr>\n",
       "  </tbody>\n",
       "</table>\n",
       "</div>"
      ],
      "text/plain": [
       "         uid   spu_id  action_type       date\n",
       "281   380056  1063802            1 1900-01-03\n",
       "440   152119  1199308            1 1900-01-09\n",
       "949    24017   418363            1 1900-01-03\n",
       "1115  443444  1472475            1 1900-01-06\n",
       "1232  403090   726334            1 1900-01-12"
      ]
     },
     "execution_count": 9,
     "metadata": {},
     "output_type": "execute_result"
    }
   ],
   "source": [
    "#提取第一个月的数据\n",
    "month1 = df_buy[(df_buy['date']>= datetime.strptime('01-01','%m-%d')) &\n",
    "                (df_buy['date']<datetime.strptime('02-01','%m-%d'))]\n",
    "month1.head()"
   ]
  },
  {
   "cell_type": "code",
   "execution_count": 30,
   "metadata": {
    "collapsed": false
   },
   "outputs": [
    {
     "name": "stderr",
     "output_type": "stream",
     "text": [
      "D:\\myProgramFiles\\Anaconda2\\lib\\site-packages\\ipykernel\\__main__.py:2: SettingWithCopyWarning: \n",
      "A value is trying to be set on a copy of a slice from a DataFrame.\n",
      "Try using .loc[row_indexer,col_indexer] = value instead\n",
      "\n",
      "See the caveats in the documentation: http://pandas.pydata.org/pandas-docs/stable/indexing.html#indexing-view-versus-copy\n",
      "  from ipykernel import kernelapp as app\n"
     ]
    },
    {
     "data": {
      "text/html": [
       "<div>\n",
       "<table border=\"1\" class=\"dataframe\">\n",
       "  <thead>\n",
       "    <tr style=\"text-align: right;\">\n",
       "      <th></th>\n",
       "      <th>uid</th>\n",
       "      <th>spu_id</th>\n",
       "      <th>action_type</th>\n",
       "      <th>date</th>\n",
       "    </tr>\n",
       "  </thead>\n",
       "  <tbody>\n",
       "    <tr>\n",
       "      <th>281</th>\n",
       "      <td>380056</td>\n",
       "      <td>1063802</td>\n",
       "      <td>1</td>\n",
       "      <td>3</td>\n",
       "    </tr>\n",
       "    <tr>\n",
       "      <th>440</th>\n",
       "      <td>152119</td>\n",
       "      <td>1199308</td>\n",
       "      <td>1</td>\n",
       "      <td>9</td>\n",
       "    </tr>\n",
       "    <tr>\n",
       "      <th>949</th>\n",
       "      <td>24017</td>\n",
       "      <td>418363</td>\n",
       "      <td>1</td>\n",
       "      <td>3</td>\n",
       "    </tr>\n",
       "    <tr>\n",
       "      <th>1115</th>\n",
       "      <td>443444</td>\n",
       "      <td>1472475</td>\n",
       "      <td>1</td>\n",
       "      <td>6</td>\n",
       "    </tr>\n",
       "    <tr>\n",
       "      <th>1232</th>\n",
       "      <td>403090</td>\n",
       "      <td>726334</td>\n",
       "      <td>1</td>\n",
       "      <td>12</td>\n",
       "    </tr>\n",
       "  </tbody>\n",
       "</table>\n",
       "</div>"
      ],
      "text/plain": [
       "         uid   spu_id  action_type  date\n",
       "281   380056  1063802            1     3\n",
       "440   152119  1199308            1     9\n",
       "949    24017   418363            1     3\n",
       "1115  443444  1472475            1     6\n",
       "1232  403090   726334            1    12"
      ]
     },
     "execution_count": 30,
     "metadata": {},
     "output_type": "execute_result"
    }
   ],
   "source": [
    "# 将时间列的时间数据转换为天\n",
    "month1['date'] = month1['date'].apply(lambda x: x.day)\n",
    "month1.head()"
   ]
  },
  {
   "cell_type": "code",
   "execution_count": 31,
   "metadata": {
    "collapsed": false
   },
   "outputs": [
    {
     "data": {
      "text/html": [
       "<div>\n",
       "<table border=\"1\" class=\"dataframe\">\n",
       "  <thead>\n",
       "    <tr style=\"text-align: right;\">\n",
       "      <th></th>\n",
       "      <th>date</th>\n",
       "      <th>user_num</th>\n",
       "    </tr>\n",
       "  </thead>\n",
       "  <tbody>\n",
       "    <tr>\n",
       "      <th>0</th>\n",
       "      <td>3</td>\n",
       "      <td>3721</td>\n",
       "    </tr>\n",
       "    <tr>\n",
       "      <th>1</th>\n",
       "      <td>4</td>\n",
       "      <td>2524</td>\n",
       "    </tr>\n",
       "    <tr>\n",
       "      <th>2</th>\n",
       "      <td>5</td>\n",
       "      <td>2165</td>\n",
       "    </tr>\n",
       "    <tr>\n",
       "      <th>3</th>\n",
       "      <td>6</td>\n",
       "      <td>4903</td>\n",
       "    </tr>\n",
       "    <tr>\n",
       "      <th>4</th>\n",
       "      <td>7</td>\n",
       "      <td>4179</td>\n",
       "    </tr>\n",
       "  </tbody>\n",
       "</table>\n",
       "</div>"
      ],
      "text/plain": [
       "   date  user_num\n",
       "0     3      3721\n",
       "1     4      2524\n",
       "2     5      2165\n",
       "3     6      4903\n",
       "4     7      4179"
      ]
     },
     "execution_count": 31,
     "metadata": {},
     "output_type": "execute_result"
    }
   ],
   "source": [
    "# 聚合每天有多少个用户购买商品\n",
    "day_users = month1.groupby('date')['uid'].nunique()\n",
    "day_users = day_users.to_frame().reset_index()\n",
    "day_users.columns = ['date', 'user_num']\n",
    "day_users.head()"
   ]
  },
  {
   "cell_type": "code",
   "execution_count": 32,
   "metadata": {
    "collapsed": false
   },
   "outputs": [
    {
     "data": {
      "text/html": [
       "<div>\n",
       "<table border=\"1\" class=\"dataframe\">\n",
       "  <thead>\n",
       "    <tr style=\"text-align: right;\">\n",
       "      <th></th>\n",
       "      <th>date</th>\n",
       "      <th>item_num</th>\n",
       "    </tr>\n",
       "  </thead>\n",
       "  <tbody>\n",
       "    <tr>\n",
       "      <th>0</th>\n",
       "      <td>3</td>\n",
       "      <td>6170</td>\n",
       "    </tr>\n",
       "    <tr>\n",
       "      <th>1</th>\n",
       "      <td>4</td>\n",
       "      <td>4234</td>\n",
       "    </tr>\n",
       "    <tr>\n",
       "      <th>2</th>\n",
       "      <td>5</td>\n",
       "      <td>3605</td>\n",
       "    </tr>\n",
       "    <tr>\n",
       "      <th>3</th>\n",
       "      <td>6</td>\n",
       "      <td>8310</td>\n",
       "    </tr>\n",
       "    <tr>\n",
       "      <th>4</th>\n",
       "      <td>7</td>\n",
       "      <td>7638</td>\n",
       "    </tr>\n",
       "  </tbody>\n",
       "</table>\n",
       "</div>"
      ],
      "text/plain": [
       "   date  item_num\n",
       "0     3      6170\n",
       "1     4      4234\n",
       "2     5      3605\n",
       "3     6      8310\n",
       "4     7      7638"
      ]
     },
     "execution_count": 32,
     "metadata": {},
     "output_type": "execute_result"
    }
   ],
   "source": [
    "# 聚合每天有多少种商品被购买\n",
    "day_item = month1.groupby('date')['spu_id'].nunique()\n",
    "day_item = day_item.to_frame().reset_index()\n",
    "day_item.columns = ['date', 'item_num']\n",
    "day_item.head()"
   ]
  },
  {
   "cell_type": "code",
   "execution_count": 33,
   "metadata": {
    "collapsed": false
   },
   "outputs": [
    {
     "data": {
      "text/html": [
       "<div>\n",
       "<table border=\"1\" class=\"dataframe\">\n",
       "  <thead>\n",
       "    <tr style=\"text-align: right;\">\n",
       "      <th></th>\n",
       "      <th>date</th>\n",
       "      <th>buy_num</th>\n",
       "    </tr>\n",
       "  </thead>\n",
       "  <tbody>\n",
       "    <tr>\n",
       "      <th>0</th>\n",
       "      <td>3</td>\n",
       "      <td>7140</td>\n",
       "    </tr>\n",
       "    <tr>\n",
       "      <th>1</th>\n",
       "      <td>4</td>\n",
       "      <td>4622</td>\n",
       "    </tr>\n",
       "    <tr>\n",
       "      <th>2</th>\n",
       "      <td>5</td>\n",
       "      <td>4042</td>\n",
       "    </tr>\n",
       "    <tr>\n",
       "      <th>3</th>\n",
       "      <td>6</td>\n",
       "      <td>10948</td>\n",
       "    </tr>\n",
       "    <tr>\n",
       "      <th>4</th>\n",
       "      <td>7</td>\n",
       "      <td>9414</td>\n",
       "    </tr>\n",
       "  </tbody>\n",
       "</table>\n",
       "</div>"
      ],
      "text/plain": [
       "   date  buy_num\n",
       "0     3     7140\n",
       "1     4     4622\n",
       "2     5     4042\n",
       "3     6    10948\n",
       "4     7     9414"
      ]
     },
     "execution_count": 33,
     "metadata": {},
     "output_type": "execute_result"
    }
   ],
   "source": [
    "#聚合每天有多少购买记录\n",
    "day_ui = month1.groupby('date').size()\n",
    "day_ui = day_ui.to_frame().reset_index()\n",
    "day_ui.columns = ['date', 'buy_num']\n",
    "day_ui.head()"
   ]
  },
  {
   "cell_type": "code",
   "execution_count": 45,
   "metadata": {
    "collapsed": false,
    "scrolled": false
   },
   "outputs": [
    {
     "data": {
      "text/plain": [
       "<matplotlib.legend.Legend at 0x36a0a630>"
      ]
     },
     "execution_count": 45,
     "metadata": {},
     "output_type": "execute_result"
    },
    {
     "data": {
      "image/png": "[encoded data removed]",
      "text/plain": [
       "<matplotlib.figure.Figure at 0x368487b8>"
      ]
     },
     "metadata": {},
     "output_type": "display_data"
    }
   ],
   "source": [
    "# 绘制条形图\n",
    "bar_width = 0.2\n",
    "opacity = 0.4 #透明度\n",
    "plt.figure(figsize=(12,8)) #图片大小\n",
    "\n",
    "plt.bar(day_users['date'], day_users['user_num'], \n",
    "        bar_width, alpha=opacity, color='c', label='user')\n",
    "plt.bar(day_item['date']+bar_width, day_item['item_num'], \n",
    "        bar_width, alpha=opacity, color='g', label='item')\n",
    "plt.bar(day_ui['date']+bar_width*2, day_ui['buy_num'], \n",
    "        bar_width, alpha=opacity, color='m', label='user_item')\n",
    "plt.xlabel('day')\n",
    "plt.ylabel('number')\n",
    "plt.title('January Purchase Table')\n",
    "day_range = day_users['date'].values #天数\n",
    "plt.xticks(day_users['date'] + bar_width * 3 / 2., day_range)\n",
    "# plt.ylim(0, 80)\n",
    "plt.tight_layout() \n",
    "plt.legend(prop={'size':9})"
   ]
  },
  {
   "cell_type": "code",
   "execution_count": 50,
   "metadata": {
    "collapsed": false
   },
   "outputs": [
    {
     "name": "stderr",
     "output_type": "stream",
     "text": [
      "D:\\myProgramFiles\\Anaconda2\\lib\\site-packages\\ipykernel\\__main__.py:5: SettingWithCopyWarning: \n",
      "A value is trying to be set on a copy of a slice from a DataFrame.\n",
      "Try using .loc[row_indexer,col_indexer] = value instead\n",
      "\n",
      "See the caveats in the documentation: http://pandas.pydata.org/pandas-docs/stable/indexing.html#indexing-view-versus-copy\n"
     ]
    },
    {
     "data": {
      "text/plain": [
       "<matplotlib.legend.Legend at 0x80a16978>"
      ]
     },
     "execution_count": 50,
     "metadata": {},
     "output_type": "execute_result"
    },
    {
     "data": {
      "image/png": "[encoded data removed]",
      "text/plain": [
       "<matplotlib.figure.Figure at 0x818682e8>"
      ]
     },
     "metadata": {},
     "output_type": "display_data"
    }
   ],
   "source": [
    "# 分析第二个月的购买情况同理\n",
    "month = df_buy[(df_buy['date']>= datetime.strptime('02-01','%m-%d')) &\n",
    "                (df_buy['date']<datetime.strptime('03-01','%m-%d'))]\n",
    "# 将时间列的时间数据转换为天\n",
    "month['date'] = month['date'].apply(lambda x: x.day)\n",
    "# 聚合每天有多少个用户购买商品\n",
    "day_users = month.groupby('date')['uid'].nunique()\n",
    "day_users = day_users.to_frame().reset_index()\n",
    "day_users.columns = ['date', 'user_num']\n",
    "# 聚合每天有多少种商品被购买\n",
    "day_item = month.groupby('date')['spu_id'].nunique()\n",
    "day_item = day_item.to_frame().reset_index()\n",
    "day_item.columns = ['date', 'item_num']\n",
    "#聚合每天有多少购买记录\n",
    "day_ui = month.groupby('date').size()\n",
    "day_ui = day_ui.to_frame().reset_index()\n",
    "day_ui.columns = ['date', 'buy_num']\n",
    "\n",
    "#绘制条形图\n",
    "plt.figure(figsize=((12,8)))\n",
    "plt.bar(day_users['date'], day_users['user_num'], \n",
    "        bar_width, alpha=opacity, color='c', label='user')\n",
    "plt.bar(day_item['date']+bar_width, day_item['item_num'], \n",
    "        bar_width, alpha=opacity, color='g', label='item')\n",
    "plt.bar(day_ui['date']+bar_width*2, day_ui['buy_num'], \n",
    "        bar_width, alpha=opacity, color='m', label='user_item')\n",
    "plt.xlabel('day')\n",
    "plt.ylabel('number')\n",
    "plt.title('February Purchase Table')\n",
    "day_range = day_users['date'].values #天数\n",
    "plt.xticks(day_users['date'] + bar_width * 3 / 2., day_range)\n",
    "# plt.ylim(0, 80)\n",
    "plt.tight_layout() \n",
    "plt.legend(prop={'size':9})"
   ]
  },
  {
   "cell_type": "code",
   "execution_count": 51,
   "metadata": {
    "collapsed": false
   },
   "outputs": [
    {
     "name": "stderr",
     "output_type": "stream",
     "text": [
      "D:\\myProgramFiles\\Anaconda2\\lib\\site-packages\\ipykernel\\__main__.py:5: SettingWithCopyWarning: \n",
      "A value is trying to be set on a copy of a slice from a DataFrame.\n",
      "Try using .loc[row_indexer,col_indexer] = value instead\n",
      "\n",
      "See the caveats in the documentation: http://pandas.pydata.org/pandas-docs/stable/indexing.html#indexing-view-versus-copy\n"
     ]
    },
    {
     "data": {
      "text/plain": [
       "<matplotlib.legend.Legend at 0x365345f8>"
      ]
     },
     "execution_count": 51,
     "metadata": {},
     "output_type": "execute_result"
    },
    {
     "data": {
      "image/png": "[encoded data removed]",
      "text/plain": [
       "<matplotlib.figure.Figure at 0x8184dbe0>"
      ]
     },
     "metadata": {},
     "output_type": "display_data"
    }
   ],
   "source": [
    "# 分析第三个月的购买情况同理\n",
    "month = df_buy[(df_buy['date']>= datetime.strptime('03-01','%m-%d')) &\n",
    "                (df_buy['date']<datetime.strptime('04-01','%m-%d'))]\n",
    "# 将时间列的时间数据转换为天\n",
    "month['date'] = month['date'].apply(lambda x: x.day)\n",
    "# 聚合每天有多少个用户购买商品\n",
    "day_users = month.groupby('date')['uid'].nunique()\n",
    "day_users = day_users.to_frame().reset_index()\n",
    "day_users.columns = ['date', 'user_num']\n",
    "# 聚合每天有多少种商品被购买\n",
    "day_item = month.groupby('date')['spu_id'].nunique()\n",
    "day_item = day_item.to_frame().reset_index()\n",
    "day_item.columns = ['date', 'item_num']\n",
    "#聚合每天有多少购买记录\n",
    "day_ui = month.groupby('date').size()\n",
    "day_ui = day_ui.to_frame().reset_index()\n",
    "day_ui.columns = ['date', 'buy_num']\n",
    "\n",
    "#绘制条形图\n",
    "plt.figure(figsize=((12,8)))\n",
    "plt.bar(day_users['date'], day_users['user_num'], \n",
    "        bar_width, alpha=opacity, color='c', label='user')\n",
    "plt.bar(day_item['date']+bar_width, day_item['item_num'], \n",
    "        bar_width, alpha=opacity, color='g', label='item')\n",
    "plt.bar(day_ui['date']+bar_width*2, day_ui['buy_num'], \n",
    "        bar_width, alpha=opacity, color='m', label='user_item')\n",
    "plt.xlabel('day')\n",
    "plt.ylabel('number')\n",
    "plt.title('may Purchase Table')\n",
    "day_range = day_users['date'].values #天数\n",
    "plt.xticks(day_users['date'] + bar_width * 3 / 2., day_range)\n",
    "# plt.ylim(0, 80)\n",
    "plt.tight_layout() \n",
    "plt.legend(prop={'size':9})"
   ]
  },
  {
   "cell_type": "markdown",
   "metadata": {},
   "source": [
    "# 查看特定用户对特定商品的活动轨迹"
   ]
  },
  {
   "cell_type": "code",
   "execution_count": 42,
   "metadata": {
    "collapsed": true
   },
   "outputs": [],
   "source": [
    "# 在数据集df_data中 用户user_id 对商品item_id 的所有数据：即活动轨迹\n",
    "def explore_user_item_trace(df_data, user_id, item_id):\n",
    "    ui = df_data[(df_data['uid']==user_id) & (df_data['spu_id']==item_id)]\n",
    "    print ui.sort_values(by='date')"
   ]
  },
  {
   "cell_type": "code",
   "execution_count": 43,
   "metadata": {
    "collapsed": false
   },
   "outputs": [
    {
     "name": "stdout",
     "output_type": "stream",
     "text": [
      "        uid   spu_id  action_type  date\n",
      "281  380056  1063802            1     3\n"
     ]
    }
   ],
   "source": [
    "explore_user_item_trace(month1,380056, 1063802)"
   ]
  },
  {
   "cell_type": "code",
   "execution_count": null,
   "metadata": {
    "collapsed": true
   },
   "outputs": [],
   "source": []
  }
 ],
 "metadata": {
  "kernelspec": {
   "display_name": "Python 2",
   "language": "python",
   "name": "python2"
  },
  "language_info": {
   "codemirror_mode": {
    "name": "ipython",
    "version": 2
   },
   "file_extension": ".py",
   "mimetype": "text/x-python",
   "name": "python",
   "nbconvert_exporter": "python",
   "pygments_lexer": "ipython2",
   "version": "2.7.13"
  }
 },
 "nbformat": 4,
 "nbformat_minor": 2
}
