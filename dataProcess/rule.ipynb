{
 "cells": [
  {
   "cell_type": "markdown",
   "metadata": {},
   "source": [
    "## 从简单的业务逻辑关系去预测\n",
    "\n",
    "### 某人 购买 某商品 的概率：\n",
    "分析某人，那些特征的人会买\n",
    "- 某人以往经常购买某一个类的商品\n",
    "- 某人以往经常购买某一品牌的商品\n",
    "+ 某人点击购买转换率较高\n",
    "+ 某人买了又买的可能性较小\n",
    "\n",
    "分析某商品， 哪些特征的商品会被买\n",
    "+ 本商品购买转化率较高\n",
    "+ 本品牌购买转化率较高\n",
    "+ 本品类购买转化率较高\n",
    "\n",
    "### 注意： 因为训练集里的所有用户-商品对都是存在，而在预测的时候只有10%的是存在的，所以不能用用户-商品对的相关的特征来训练"
   ]
  },
  {
   "cell_type": "code",
   "execution_count": null,
   "metadata": {
    "collapsed": true
   },
   "outputs": [],
   "source": []
  }
 ],
 "metadata": {
  "kernelspec": {
   "display_name": "Python 2",
   "language": "python",
   "name": "python2"
  },
  "language_info": {
   "codemirror_mode": {
    "name": "ipython",
    "version": 2
   },
   "file_extension": ".py",
   "mimetype": "text/x-python",
   "name": "python",
   "nbconvert_exporter": "python",
   "pygments_lexer": "ipython2",
   "version": "2.7.13"
  }
 },
 "nbformat": 4,
 "nbformat_minor": 2
}
